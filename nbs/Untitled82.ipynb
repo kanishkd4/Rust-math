{
 "cells": [
  {
   "cell_type": "code",
   "execution_count": 1,
   "metadata": {},
   "outputs": [],
   "source": [
    "import numpy as np"
   ]
  },
  {
   "cell_type": "code",
   "execution_count": 2,
   "metadata": {},
   "outputs": [],
   "source": [
    "a = np.loadtxt(\"/home/kanishk/HDD/data/PE/p082_matrix.txt\", delimiter=\",\")\n",
    "\n",
    "b = a[:, 79].copy()\n",
    "\n",
    "for col in range(a.shape[1]-2, -1, -1):\n",
    "    ch = np.column_stack((a[:, col], b))\n",
    "    l = {}\n",
    "    for i in range(ch.shape[0]):        \n",
    "        l[i] = []\n",
    "        for j in range(0, i):\n",
    "            l[i].append(np.sum(ch[j, :], axis=0) + np.sum(ch[j+1:i+1, 0]))\n",
    "        for j in range(i, 80):\n",
    "            l[i].append(np.sum(ch[j, :], axis=0) + np.sum(ch[i:j, 0]))\n",
    "    for key in l.keys():\n",
    "        b[key] = min(l[key])"
   ]
  },
  {
   "cell_type": "code",
   "execution_count": 1,
   "metadata": {
    "scrolled": true
   },
   "outputs": [],
   "source": [
    "# min(b)"
   ]
  },
  {
   "cell_type": "code",
   "execution_count": null,
   "metadata": {},
   "outputs": [],
   "source": []
  },
  {
   "cell_type": "code",
   "execution_count": null,
   "metadata": {},
   "outputs": [],
   "source": []
  }
 ],
 "metadata": {
  "kernelspec": {
   "display_name": "Python 3",
   "language": "python",
   "name": "python3"
  },
  "language_info": {
   "codemirror_mode": {
    "name": "ipython",
    "version": 3
   },
   "file_extension": ".py",
   "mimetype": "text/x-python",
   "name": "python",
   "nbconvert_exporter": "python",
   "pygments_lexer": "ipython3",
   "version": "3.6.4"
  }
 },
 "nbformat": 4,
 "nbformat_minor": 2
}
